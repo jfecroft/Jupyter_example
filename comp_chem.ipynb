{
 "cells": [
  {
   "cell_type": "markdown",
   "id": "78dfe899-60b1-4af9-851a-e6ff97ca6721",
   "metadata": {},
   "source": [
    "# Second Year Computational Chemistry Workshop\n",
    "\n",
    "This workshop will cover:\n",
    "* Potential energy surfaces\n",
    "* Energy minimisation\n",
    "* Geometry optimisation\n",
    "* Zero-point energy"
   ]
  },
  {
   "cell_type": "markdown",
   "id": "4f4b1146-38bb-4e67-9d8a-2581db692eb9",
   "metadata": {},
   "source": [
    "In this workshop we will make use of Python in a Jupyter notebook. To run a block of code in a cell you can click on the cell and then press Shift-Enter.\n",
    "\n",
    "For example here we will import some useful modules:\n",
    "* numpy---useful for things that invlove matricies\n",
    "* scipy---scientific python modules\n",
    "* matplotlib---for plotting"
   ]
  },
  {
   "cell_type": "code",
   "execution_count": null,
   "id": "4dadb41a-16fb-4107-91af-9cc313960165",
   "metadata": {},
   "outputs": [],
   "source": [
    "import numpy as np\n",
    "import scipy as sp\n",
    "import matplotlib.pyplot as plt"
   ]
  },
  {
   "cell_type": "markdown",
   "id": "53211f80-f86c-461d-900b-a856a6cdf0e5",
   "metadata": {},
   "source": [
    "Now we have imported them we can start to use them. For example we can create a numpy array of using np.linspace and use it to make a plot of $\\sin x$"
   ]
  },
  {
   "cell_type": "code",
   "execution_count": null,
   "id": "2e03848d-a31f-4aba-99be-7deaca79efbc",
   "metadata": {},
   "outputs": [],
   "source": [
    "from math import pi\n",
    "x = np.linspace(-2*pi, 2*pi, 999)\n",
    "y = np.sin(x)\n",
    "plt.plot(x, y)\n",
    "plt.xlabel('x')\n",
    "plt.ylabel('y')\n",
    "plt.show()"
   ]
  },
  {
   "cell_type": "markdown",
   "id": "78815c7f-23ef-4364-8e2d-489b9bed9346",
   "metadata": {},
   "source": [
    "[Scipy](https://scipy.org/) has some powerful minimization tools which we can make use of to optimize the geometry of a molecule from its potential energy surface. Take a look at the various [optimization methods](https://docs.scipy.org/doc/scipy/reference/optimize.html). For example we can use the minimize_scalar function to find the minimum of the $\\sin$ function."
   ]
  },
  {
   "cell_type": "code",
   "execution_count": null,
   "id": "037a547d-894b-47be-8bc5-e437ac667519",
   "metadata": {},
   "outputs": [],
   "source": [
    "sp.optimize.minimize_scalar(np.sin)"
   ]
  },
  {
   "cell_type": "markdown",
   "id": "5a51a9c8-ee11-40d4-9ece-a228ceccbe10",
   "metadata": {},
   "source": [
    "But the $\\sin$ function, like many potential energy surfaces has multiple ($\\infty$) minima and the minimize_scalar function will just find the one it starts in. We can find a different one by providing a bracket parameter which provides two intital points to start from."
   ]
  },
  {
   "cell_type": "code",
   "execution_count": null,
   "id": "c7fe6297-27a3-4542-b6a2-ef446724b987",
   "metadata": {},
   "outputs": [],
   "source": [
    "sp.optimize.minimize_scalar(np.sin, bracket=(3, 4))"
   ]
  },
  {
   "cell_type": "markdown",
   "id": "110201fa-70d3-43fb-b0c6-f27e57386703",
   "metadata": {},
   "source": [
    "A bad choice of starting points can take longer to converge..."
   ]
  },
  {
   "cell_type": "code",
   "execution_count": null,
   "id": "ff50cc4f-6868-4aa6-b3be-0e325010a1fe",
   "metadata": {},
   "outputs": [],
   "source": [
    "sp.optimize.minimize_scalar(np.sin, bracket=(0, 2*pi))"
   ]
  },
  {
   "cell_type": "markdown",
   "id": "e5c5f260-816d-4356-8b35-0b64e32972d5",
   "metadata": {},
   "source": [
    "We can import functions for the singlet and triplet potential energy surfaces as a function of the internuclear distance. These were computed using CCSD(T). Can you find the minimum? First it is probably a good idea to plot them. units here."
   ]
  },
  {
   "cell_type": "code",
   "execution_count": null,
   "id": "0f0a22e8-f05f-495d-ab02-d21911ee2eb7",
   "metadata": {},
   "outputs": [],
   "source": [
    "from pot import pot_singlet, pot_triplet"
   ]
  },
  {
   "cell_type": "code",
   "execution_count": null,
   "id": "c53cc7ec-38c3-44c6-8ea6-26952bfd4458",
   "metadata": {},
   "outputs": [],
   "source": [
    "sp.optimize.minimize_scalar(pot_singlet, bracket=(3, 4))"
   ]
  },
  {
   "cell_type": "code",
   "execution_count": null,
   "id": "33514a30-6f55-45f6-b8d8-9393fdc6dd77",
   "metadata": {},
   "outputs": [],
   "source": [
    "sp.optimize.minimize_scalar(pot_triplet, bracket=(3, 4))"
   ]
  },
  {
   "cell_type": "markdown",
   "id": "3cc795c7-c2ba-4731-b7f5-72422df27f02",
   "metadata": {},
   "source": []
  },
  {
   "cell_type": "markdown",
   "id": "dcba5585-416c-478d-8e4e-326e637bda7f",
   "metadata": {},
   "source": [
    "Near the bottom of the well the potential is well approximated by a harmonic osccilation potential. Why is this?\n",
    "<details>\n",
    "<summary><b> Click here for a hint</b></summary>\n",
    "    Think about the Taylor expansion of a function around a point $a$\n",
    "</details>\n",
    "\n",
    "\\\n",
    "Use this to find the zero point energy.\n",
    "<details>\n",
    "<summary><b>Click here for a hint</b></summary>\n",
    "The formula for the second derivative of a function is  $f''(x) = \\frac{f(x + h) - 2f(x) + f(x - h)}{h^2}$\n",
    "</details>"
   ]
  },
  {
   "cell_type": "code",
   "execution_count": null,
   "id": "6d2c5866-cf8e-44ce-a1e0-77148913d649",
   "metadata": {},
   "outputs": [],
   "source": [
    "from scipy.optimize import minimize"
   ]
  },
  {
   "cell_type": "code",
   "execution_count": null,
   "id": "65e1a7b9-5709-40ca-9afd-0dde7da17805",
   "metadata": {},
   "outputs": [],
   "source": [
    "def pot3(r):\n",
    "    return pot_singlet(r[0]) + pot_singlet(r[1]) + pot_singlet(r[2])"
   ]
  },
  {
   "cell_type": "code",
   "execution_count": null,
   "id": "2ec224b0-25b6-4b54-8049-19dcbd3d6213",
   "metadata": {},
   "outputs": [],
   "source": [
    "pot3((5,5,5))"
   ]
  },
  {
   "cell_type": "code",
   "execution_count": null,
   "id": "4402b5db-c0a9-48b5-bc11-fc8e95fd3202",
   "metadata": {},
   "outputs": [],
   "source": [
    "minimize(pot3, x0=(4,5,11), method='CG')"
   ]
  },
  {
   "cell_type": "code",
   "execution_count": null,
   "id": "6149f3d5-c0f8-4204-acf1-836bf3ad0d16",
   "metadata": {},
   "outputs": [],
   "source": []
  }
 ],
 "metadata": {
  "kernelspec": {
   "display_name": "Python 3 (ipykernel)",
   "language": "python",
   "name": "python3"
  },
  "language_info": {
   "codemirror_mode": {
    "name": "ipython",
    "version": 3
   },
   "file_extension": ".py",
   "mimetype": "text/x-python",
   "name": "python",
   "nbconvert_exporter": "python",
   "pygments_lexer": "ipython3",
   "version": "3.11.0"
  }
 },
 "nbformat": 4,
 "nbformat_minor": 5
}
