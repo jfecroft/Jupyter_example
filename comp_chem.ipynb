{
 "cells": [
  {
   "cell_type": "code",
   "execution_count": 1,
   "id": "4dadb41a-16fb-4107-91af-9cc313960165",
   "metadata": {},
   "outputs": [
    {
     "data": {
      "text/plain": [
       "array([0., 1., 2., 3., 4., 5., 6., 7., 8.])"
      ]
     },
     "execution_count": 1,
     "metadata": {},
     "output_type": "execute_result"
    }
   ],
   "source": [
    "import numpy as np\n",
    "np.linspace(0,8,9)"
   ]
  },
  {
   "cell_type": "code",
   "execution_count": 2,
   "id": "f1cd18ef-76e3-4f5a-8185-5bc680733aa2",
   "metadata": {},
   "outputs": [],
   "source": [
    "import scipy as sp"
   ]
  },
  {
   "cell_type": "code",
   "execution_count": 3,
   "id": "2e03848d-a31f-4aba-99be-7deaca79efbc",
   "metadata": {},
   "outputs": [
    {
     "data": {
      "text/plain": [
       "<module 'scipy.optimize' from '/Users/jamescroft/.pyenv/versions/3.8.10/lib/python3.8/site-packages/scipy/optimize/__init__.py'>"
      ]
     },
     "execution_count": 3,
     "metadata": {},
     "output_type": "execute_result"
    }
   ],
   "source": [
    "sp.optimize\n"
   ]
  },
  {
   "cell_type": "code",
   "execution_count": 19,
   "id": "037a547d-894b-47be-8bc5-e437ac667519",
   "metadata": {},
   "outputs": [
    {
     "data": {
      "text/plain": [
       "-0.5000000019191296"
      ]
     },
     "execution_count": 19,
     "metadata": {},
     "output_type": "execute_result"
    }
   ],
   "source": [
    "sp.optimize.minimize_scalar(sin)['x']/pi"
   ]
  },
  {
   "cell_type": "code",
   "execution_count": 9,
   "id": "c7fe6297-27a3-4542-b6a2-ef446724b987",
   "metadata": {},
   "outputs": [],
   "source": [
    "from math import sin, pi\n"
   ]
  },
  {
   "cell_type": "code",
   "execution_count": 14,
   "id": "ff50cc4f-6868-4aa6-b3be-0e325010a1fe",
   "metadata": {},
   "outputs": [
    {
     "data": {
      "text/plain": [
       "scipy.optimize._optimize.OptimizeResult"
      ]
     },
     "execution_count": 14,
     "metadata": {},
     "output_type": "execute_result"
    }
   ],
   "source": [
    "type(a)"
   ]
  },
  {
   "cell_type": "code",
   "execution_count": 15,
   "id": "d702f308-2bdc-4e22-ac19-ff1797fa387b",
   "metadata": {},
   "outputs": [
    {
     "data": {
      "text/plain": [
       "-1.57079633282402"
      ]
     },
     "execution_count": 15,
     "metadata": {},
     "output_type": "execute_result"
    }
   ],
   "source": [
    "a['x']"
   ]
  },
  {
   "cell_type": "code",
   "execution_count": null,
   "id": "0f0a22e8-f05f-495d-ab02-d21911ee2eb7",
   "metadata": {},
   "outputs": [],
   "source": []
  }
 ],
 "metadata": {
  "kernelspec": {
   "display_name": "Python 3 (ipykernel)",
   "language": "python",
   "name": "python3"
  },
  "language_info": {
   "codemirror_mode": {
    "name": "ipython",
    "version": 3
   },
   "file_extension": ".py",
   "mimetype": "text/x-python",
   "name": "python",
   "nbconvert_exporter": "python",
   "pygments_lexer": "ipython3",
   "version": "3.8.10"
  }
 },
 "nbformat": 4,
 "nbformat_minor": 5
}
