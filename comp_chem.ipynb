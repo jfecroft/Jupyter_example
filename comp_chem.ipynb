{
 "cells": [
  {
   "cell_type": "markdown",
   "id": "78dfe899-60b1-4af9-851a-e6ff97ca6721",
   "metadata": {},
   "source": [
    "# Second Year Computational Chemistry Workshop\n",
    "\n",
    "This workshop will cover:\n",
    "* Potential energy surfaces\n",
    "* Energy minimisation\n",
    "* Geometry optimisation\n",
    "* Zero-point energy"
   ]
  },
  {
   "cell_type": "markdown",
   "id": "4f4b1146-38bb-4e67-9d8a-2581db692eb9",
   "metadata": {},
   "source": [
    "In this workshop we will make use of Python in a Jupyter notebook. To run a block of code in a cell you can click on the cell and then press Shift-Enter.\n",
    "\n",
    "For example here we will import some useful modules:\n",
    "* numpy---useful for things that invlove matricies\n",
    "* scipy---scientific python modules\n",
    "* matplotlib---for plotting"
   ]
  },
  {
   "cell_type": "code",
   "execution_count": null,
   "id": "4dadb41a-16fb-4107-91af-9cc313960165",
   "metadata": {},
   "outputs": [],
   "source": [
    "import numpy as np\n",
    "import scipy as sp\n",
    "import matplotlib.pyplot as plt"
   ]
  },
  {
   "cell_type": "markdown",
   "id": "53211f80-f86c-461d-900b-a856a6cdf0e5",
   "metadata": {},
   "source": [
    "Now we have imported them we can start to use them. For example we can create a numpy array of $sin(x)$"
   ]
  },
  {
   "cell_type": "code",
   "execution_count": null,
   "id": "2e03848d-a31f-4aba-99be-7deaca79efbc",
   "metadata": {},
   "outputs": [],
   "source": [
    "from math import pi\n",
    "x = np.linspace(0, 2*pi, 999)\n",
    "sinx = np.sin(x)\n",
    "plt.plot(x, sinx)\n",
    "plt.show()\n"
   ]
  },
  {
   "cell_type": "code",
   "execution_count": null,
   "id": "037a547d-894b-47be-8bc5-e437ac667519",
   "metadata": {},
   "outputs": [],
   "source": [
    "sp.optimize.minimize_scalar(sin)['x']/pi"
   ]
  },
  {
   "cell_type": "code",
   "execution_count": null,
   "id": "c7fe6297-27a3-4542-b6a2-ef446724b987",
   "metadata": {},
   "outputs": [],
   "source": [
    "x =2\n",
    "\n"
   ]
  },
  {
   "cell_type": "code",
   "execution_count": null,
   "id": "ff50cc4f-6868-4aa6-b3be-0e325010a1fe",
   "metadata": {},
   "outputs": [],
   "source": [
    "print(x)"
   ]
  },
  {
   "cell_type": "code",
   "execution_count": null,
   "id": "d702f308-2bdc-4e22-ac19-ff1797fa387b",
   "metadata": {},
   "outputs": [],
   "source": [
    "a['x']"
   ]
  },
  {
   "cell_type": "code",
   "execution_count": null,
   "id": "0f0a22e8-f05f-495d-ab02-d21911ee2eb7",
   "metadata": {},
   "outputs": [],
   "source": []
  }
 ],
 "metadata": {
  "kernelspec": {
   "display_name": "Python 3 (ipykernel)",
   "language": "python",
   "name": "python3"
  },
  "language_info": {
   "codemirror_mode": {
    "name": "ipython",
    "version": 3
   },
   "file_extension": ".py",
   "mimetype": "text/x-python",
   "name": "python",
   "nbconvert_exporter": "python",
   "pygments_lexer": "ipython3",
   "version": "3.8.10"
  }
 },
 "nbformat": 4,
 "nbformat_minor": 5
}
